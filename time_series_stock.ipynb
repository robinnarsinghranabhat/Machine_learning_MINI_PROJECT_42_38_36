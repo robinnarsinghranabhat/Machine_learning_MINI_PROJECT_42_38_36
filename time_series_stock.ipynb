{
 "cells": [
  {
   "cell_type": "code",
   "execution_count": 7,
   "metadata": {
    "_cell_guid": "e5597995-1a23-40d2-85cb-8603fbe5181d",
    "_uuid": "f37c51e2567d1c03946bf2ebda6c830c8acb9179",
    "scrolled": true
   },
   "outputs": [],
   "source": [
    "import numpy as np\n",
    "import pandas as pd \n",
    "import matplotlib.pyplot as plt\n",
    "%matplotlib inline\n",
    "# import seaborn as sns; sns.set()"
   ]
  },
  {
   "cell_type": "code",
   "execution_count": 8,
   "metadata": {
    "_cell_guid": "e92fb697-4dae-443f-bdfc-4040477fa63a",
    "_uuid": "5cae6e3c6c4c61461ff331c23904b078e55dd777"
   },
   "outputs": [],
   "source": [
    "train = pd.read_csv(\"train.csv\")\n",
    "test = pd.read_csv(\"test.csv\")"
   ]
  },
  {
   "cell_type": "code",
   "execution_count": 9,
   "metadata": {
    "_cell_guid": "dad2513d-ad5c-4682-ba08-033d58a8f364",
    "_uuid": "b21534944986ad5b34316f025a96d537426bd43a"
   },
   "outputs": [],
   "source": [
    "train = train[::-1]\n",
    "test = test[::-1]"
   ]
  },
  {
   "cell_type": "code",
   "execution_count": 10,
   "metadata": {
    "_cell_guid": "5fb1a71b-1ae2-4c75-be85-a0c9532ce620",
    "_uuid": "959807425192929fb4ce607880a805666d24f6dd"
   },
   "outputs": [
    {
     "data": {
      "text/html": [
       "<div>\n",
       "<style scoped>\n",
       "    .dataframe tbody tr th:only-of-type {\n",
       "        vertical-align: middle;\n",
       "    }\n",
       "\n",
       "    .dataframe tbody tr th {\n",
       "        vertical-align: top;\n",
       "    }\n",
       "\n",
       "    .dataframe thead th {\n",
       "        text-align: right;\n",
       "    }\n",
       "</style>\n",
       "<table border=\"1\" class=\"dataframe\">\n",
       "  <thead>\n",
       "    <tr style=\"text-align: right;\">\n",
       "      <th></th>\n",
       "      <th>Date</th>\n",
       "      <th>Open</th>\n",
       "      <th>High</th>\n",
       "      <th>Low</th>\n",
       "      <th>Close</th>\n",
       "      <th>Volume</th>\n",
       "      <th>Market Cap</th>\n",
       "    </tr>\n",
       "  </thead>\n",
       "  <tbody>\n",
       "    <tr>\n",
       "      <th>1555</th>\n",
       "      <td>Apr 28, 2013</td>\n",
       "      <td>135.30</td>\n",
       "      <td>135.98</td>\n",
       "      <td>132.10</td>\n",
       "      <td>134.21</td>\n",
       "      <td>-</td>\n",
       "      <td>1,500,520,000</td>\n",
       "    </tr>\n",
       "    <tr>\n",
       "      <th>1554</th>\n",
       "      <td>Apr 29, 2013</td>\n",
       "      <td>134.44</td>\n",
       "      <td>147.49</td>\n",
       "      <td>134.00</td>\n",
       "      <td>144.54</td>\n",
       "      <td>-</td>\n",
       "      <td>1,491,160,000</td>\n",
       "    </tr>\n",
       "    <tr>\n",
       "      <th>1553</th>\n",
       "      <td>Apr 30, 2013</td>\n",
       "      <td>144.00</td>\n",
       "      <td>146.93</td>\n",
       "      <td>134.05</td>\n",
       "      <td>139.00</td>\n",
       "      <td>-</td>\n",
       "      <td>1,597,780,000</td>\n",
       "    </tr>\n",
       "    <tr>\n",
       "      <th>1552</th>\n",
       "      <td>May 01, 2013</td>\n",
       "      <td>139.00</td>\n",
       "      <td>139.89</td>\n",
       "      <td>107.72</td>\n",
       "      <td>116.99</td>\n",
       "      <td>-</td>\n",
       "      <td>1,542,820,000</td>\n",
       "    </tr>\n",
       "    <tr>\n",
       "      <th>1551</th>\n",
       "      <td>May 02, 2013</td>\n",
       "      <td>116.38</td>\n",
       "      <td>125.60</td>\n",
       "      <td>92.28</td>\n",
       "      <td>105.21</td>\n",
       "      <td>-</td>\n",
       "      <td>1,292,190,000</td>\n",
       "    </tr>\n",
       "  </tbody>\n",
       "</table>\n",
       "</div>"
      ],
      "text/plain": [
       "              Date    Open    High     Low   Close Volume     Market Cap\n",
       "1555  Apr 28, 2013  135.30  135.98  132.10  134.21      -  1,500,520,000\n",
       "1554  Apr 29, 2013  134.44  147.49  134.00  144.54      -  1,491,160,000\n",
       "1553  Apr 30, 2013  144.00  146.93  134.05  139.00      -  1,597,780,000\n",
       "1552  May 01, 2013  139.00  139.89  107.72  116.99      -  1,542,820,000\n",
       "1551  May 02, 2013  116.38  125.60   92.28  105.21      -  1,292,190,000"
      ]
     },
     "execution_count": 10,
     "metadata": {},
     "output_type": "execute_result"
    }
   ],
   "source": [
    "train.head()"
   ]
  },
  {
   "cell_type": "code",
   "execution_count": 11,
   "metadata": {
    "_uuid": "07aba7ce678b44dd0e702ff24efb154cd8810fb9"
   },
   "outputs": [],
   "source": [
    "df = pd.concat((train,test),axis=0)"
   ]
  },
  {
   "cell_type": "code",
   "execution_count": 12,
   "metadata": {
    "_uuid": "d3055eea56967155f7a7c92d343ea3dc244a922c"
   },
   "outputs": [
    {
     "data": {
      "text/plain": [
       "array([  135.3 ,   134.44,   144.  , ...,  2897.63,  3257.61,  3212.78])"
      ]
     },
     "execution_count": 12,
     "metadata": {},
     "output_type": "execute_result"
    }
   ],
   "source": [
    "df.Open.values"
   ]
  },
  {
   "cell_type": "code",
   "execution_count": 13,
   "metadata": {
    "_uuid": "a5545b6f20e7b7a0ce474f070c53bab0dbcc93b1"
   },
   "outputs": [
    {
     "data": {
      "text/plain": [
       "<matplotlib.legend.Legend at 0x13451ecdf28>"
      ]
     },
     "execution_count": 13,
     "metadata": {},
     "output_type": "execute_result"
    },
    {
     "data": {
      "image/png": "[encoded data removed]",
      "text/plain": [
       "<Figure size 1080x360 with 1 Axes>"
      ]
     },
     "metadata": {
      "needs_background": "light"
     },
     "output_type": "display_data"
    }
   ],
   "source": [
    "plt.figure(figsize=(15, 5));\n",
    "plt.subplot(1,2,1);\n",
    "plt.plot(df.Open.values, color='red', label='open')\n",
    "plt.plot(df.Close.values, color='green', label='close')\n",
    "plt.plot(df.Low.values, color='blue', label='low')\n",
    "plt.plot(df.High.values, color='black', label='high')\n",
    "plt.title('stock price')\n",
    "plt.xlabel('time [days]')\n",
    "plt.ylabel('price')\n",
    "plt.legend(loc='best')\n",
    "#plt.show()"
   ]
  },
  {
   "cell_type": "code",
   "execution_count": 14,
   "metadata": {
    "_cell_guid": "a9f4e4ae-b765-420e-a1dc-71d077a874fe",
    "_uuid": "64df3017961c79a1cb2bc425e2ce3b710d988af9"
   },
   "outputs": [],
   "source": [
    "train = train['Close'].values.astype('float32')\n",
    "test = test['Close'].values.astype('float32')"
   ]
  },
  {
   "cell_type": "markdown",
   "metadata": {
    "_cell_guid": "fc56d316-c7b0-431a-87a5-4a5c0c5322db",
    "_uuid": "760da4555737afb907c29bcf6dd5990551c123bb"
   },
   "source": [
    "# Make sure to standardize the data before feeding it to neural nets"
   ]
  },
  {
   "cell_type": "code",
   "execution_count": 15,
   "metadata": {
    "_cell_guid": "3c75f077-5d36-46c8-b2b9-3040a810b3f7",
    "_uuid": "5ef412246e480c3b15f5122d649a611477c8a543"
   },
   "outputs": [
    {
     "name": "stderr",
     "output_type": "stream",
     "text": [
      "C:\\Users\\Acer\\Anaconda3\\envs\\kerasenv\\lib\\site-packages\\sklearn\\utils\\fixes.py:313: FutureWarning: numpy not_equal will not check object identity in the future. The comparison did not return the same result as suggested by the identity (`is`)) and will change.\n",
      "  _nan_object_mask = _nan_object_array != _nan_object_array\n"
     ]
    }
   ],
   "source": [
    "from sklearn.preprocessing import StandardScaler"
   ]
  },
  {
   "cell_type": "code",
   "execution_count": 16,
   "metadata": {
    "_cell_guid": "140aa0d1-877a-4590-8b2c-c0f819aefa58",
    "_uuid": "eba78ef02a5e8a8ead44abd732f7932304e17a23"
   },
   "outputs": [],
   "source": [
    "# reshape data to scale the point\n",
    "train = train.reshape(-1, 1)\n",
    "test = test.reshape(-1, 1)\n",
    "\n",
    "scaler = StandardScaler()\n",
    "train_n = scaler.fit_transform(train)\n",
    "test_n = scaler.transform(test)"
   ]
  },
  {
   "cell_type": "code",
   "execution_count": 17,
   "metadata": {
    "_cell_guid": "a15bb097-88c2-44e6-bcd4-0aad75476b78",
    "_uuid": "467b816d42a90320331752e49f289752af9001d6"
   },
   "outputs": [
    {
     "name": "stdout",
     "output_type": "stream",
     "text": [
      "(1556, 1)\n",
      "(7, 1)\n"
     ]
    }
   ],
   "source": [
    "print(train_n.shape)\n",
    "print(test_n.shape)"
   ]
  },
  {
   "cell_type": "code",
   "execution_count": 18,
   "metadata": {
    "_cell_guid": "968e401b-6d40-4690-aacc-25b624cdb5da",
    "_uuid": "45b57895f96bbe049d0534504bf98bfe9e47dfac"
   },
   "outputs": [],
   "source": [
    "def generator(data, lookback, delay, min_index, max_index, \n",
    "              shuffle=False, batch_size=128, step=1):\n",
    "    if max_index is None:\n",
    "        max_index = len(data) - delay - 1\n",
    "    i = min_index + lookback\n",
    "    while 1:\n",
    "        if shuffle:\n",
    "            rows = np.random.randint(min_index + lookback, max_index, size=batch_size)\n",
    "        else:\n",
    "            if i + batch_size >= max_index:\n",
    "                i = min_index + lookback\n",
    "                \n",
    "            rows = np.arange(i, min(i + batch_size, max_index))\n",
    "            i += len(rows)\n",
    "        samples = np.zeros((len(rows), lookback // step, data.shape[-1]))\n",
    "        targets = np.zeros((len(rows),))\n",
    "        for j, row in enumerate(rows):\n",
    "            indices = range(rows[j] - lookback, rows[j], step)\n",
    "            samples[j] = data[indices]\n",
    "            targets[j] = data[rows[j] + delay]\n",
    "        yield samples, targets"
   ]
  },
  {
   "cell_type": "code",
   "execution_count": 19,
   "metadata": {
    "_cell_guid": "2362868a-a703-4ba8-a312-9571e171ba7d",
    "_uuid": "6501bb6e1934b943896a40c8e3c910e4d59bde6a"
   },
   "outputs": [],
   "source": [
    "# we look back 24 days and predict for future 7 days.\n",
    "lookback = 24\n",
    "step = 1\n",
    "delay = 7\n",
    "batch_size = 128\n",
    "train_gen = generator(train_n, lookback=lookback, delay=delay,\n",
    "    min_index=0, max_index=1000, shuffle=True, step=step,\n",
    "batch_size=batch_size)\n",
    "val_gen = generator(train_n, lookback=lookback, delay=delay,\n",
    "    min_index=1001, max_index=None, step=step, batch_size=batch_size)\n",
    "test_gen = generator(test_n, lookback=lookback, delay=delay,\n",
    "    min_index=0, max_index=None, step=step, batch_size=batch_size)\n",
    "# This is how many steps to draw from `val_gen` in order to see the whole validation set:\n",
    "val_steps = (len(train_n) - 1001 - lookback) // batch_size\n",
    "# This is how many steps to draw from `test_gen` in order to see the whole test set:\n",
    "test_steps = (len(test_n) - lookback) // batch_size"
   ]
  },
  {
   "cell_type": "code",
   "execution_count": 23,
   "metadata": {
    "_cell_guid": "ebc3f790-b6cb-46a4-a2ec-2ec069bb9556",
    "_uuid": "5660be75fea9fa947c2045b99fe0925dffbbc482"
   },
   "outputs": [],
   "source": [
    "# reproducibility (make sure each time training is occurred, the result will be the same)\n",
    "np.random.seed(7)"
   ]
  },
  {
   "cell_type": "code",
   "execution_count": 24,
   "metadata": {
    "_cell_guid": "998f0da7-52be-4247-b4a4-f4d402ace516",
    "_uuid": "6fc584cd9cee686a6278fa82145cd339a7cbadaf"
   },
   "outputs": [
    {
     "name": "stderr",
     "output_type": "stream",
     "text": [
      "Using TensorFlow backend.\n"
     ]
    }
   ],
   "source": [
    "from keras.models import Sequential\n",
    "from keras import layers\n",
    "from keras.optimizers import RMSprop"
   ]
  },
  {
   "cell_type": "code",
   "execution_count": 35,
   "metadata": {
    "_cell_guid": "a1742752-1b4a-4695-b428-eb3e0cb3737d",
    "_uuid": "ad449498944a2f0b45d35d9b49a8796f3e1bf7f3",
    "scrolled": true
   },
   "outputs": [
    {
     "name": "stdout",
     "output_type": "stream",
     "text": [
      "_________________________________________________________________\n",
      "Layer (type)                 Output Shape              Param #   \n",
      "=================================================================\n",
      "gru_2 (GRU)                  (None, 32)                3264      \n",
      "_________________________________________________________________\n",
      "dense_2 (Dense)              (None, 1)                 33        \n",
      "=================================================================\n",
      "Total params: 3,297\n",
      "Trainable params: 3,297\n",
      "Non-trainable params: 0\n",
      "_________________________________________________________________\n"
     ]
    }
   ],
   "source": [
    "model = Sequential()\n",
    "model.add(layers.GRU(32,\n",
    "                     dropout=0.2,\n",
    "                     recurrent_dropout=0.2,\n",
    "                     input_shape=(None, train_n.shape[-1])))\n",
    "model.add(layers.Dense(1))\n",
    "model.compile(optimizer=RMSprop(), loss='mae')\n",
    "model.summary()"
   ]
  },
  {
   "cell_type": "code",
   "execution_count": 36,
   "metadata": {
    "_cell_guid": "9a81c912-551c-4610-a312-f7cc5ac49000",
    "_uuid": "a9d207442accdd96902ef709f42e14dcdaee0fdb"
   },
   "outputs": [
    {
     "name": "stdout",
     "output_type": "stream",
     "text": [
      "Epoch 1/40\n",
      "4/4 [==============================] - 2s 517ms/step - loss: 0.3743 - val_loss: 0.6542\n",
      "Epoch 2/40\n",
      "4/4 [==============================] - 0s 37ms/step - loss: 0.2323 - val_loss: 0.5807\n",
      "Epoch 3/40\n",
      "4/4 [==============================] - 0s 37ms/step - loss: 0.1658 - val_loss: 0.5480\n",
      "Epoch 4/40\n",
      "4/4 [==============================] - 0s 35ms/step - loss: 0.1483 - val_loss: 0.5320\n",
      "Epoch 5/40\n",
      "4/4 [==============================] - 0s 35ms/step - loss: 0.1791 - val_loss: 0.5097\n",
      "Epoch 6/40\n",
      "4/4 [==============================] - 0s 35ms/step - loss: 0.1694 - val_loss: 0.4869\n",
      "Epoch 7/40\n",
      "4/4 [==============================] - 0s 32ms/step - loss: 0.1602 - val_loss: 0.4794\n",
      "Epoch 8/40\n",
      "4/4 [==============================] - 0s 37ms/step - loss: 0.1602 - val_loss: 0.4793\n",
      "Epoch 9/40\n",
      "4/4 [==============================] - 0s 39ms/step - loss: 0.1509 - val_loss: 0.4564\n",
      "Epoch 10/40\n",
      "4/4 [==============================] - 0s 35ms/step - loss: 0.1560 - val_loss: 0.4523\n",
      "Epoch 11/40\n",
      "4/4 [==============================] - 0s 33ms/step - loss: 0.1500 - val_loss: 0.4507\n",
      "Epoch 12/40\n",
      "4/4 [==============================] - 0s 32ms/step - loss: 0.1612 - val_loss: 0.4636\n",
      "Epoch 13/40\n",
      "4/4 [==============================] - 0s 35ms/step - loss: 0.1728 - val_loss: 0.4591\n",
      "Epoch 14/40\n",
      "4/4 [==============================] - 0s 33ms/step - loss: 0.1763 - val_loss: 0.4527\n",
      "Epoch 15/40\n",
      "4/4 [==============================] - 0s 36ms/step - loss: 0.1553 - val_loss: 0.4423\n",
      "Epoch 16/40\n",
      "4/4 [==============================] - 0s 34ms/step - loss: 0.1595 - val_loss: 0.4401\n",
      "Epoch 17/40\n",
      "4/4 [==============================] - 0s 35ms/step - loss: 0.1618 - val_loss: 0.4375\n",
      "Epoch 18/40\n",
      "4/4 [==============================] - 0s 38ms/step - loss: 0.1537 - val_loss: 0.4281\n",
      "Epoch 19/40\n",
      "4/4 [==============================] - 0s 37ms/step - loss: 0.1568 - val_loss: 0.4124\n",
      "Epoch 20/40\n",
      "4/4 [==============================] - 0s 35ms/step - loss: 0.1606 - val_loss: 0.4124\n",
      "Epoch 21/40\n",
      "4/4 [==============================] - 0s 34ms/step - loss: 0.1551 - val_loss: 0.4347\n",
      "Epoch 22/40\n",
      "4/4 [==============================] - 0s 35ms/step - loss: 0.1659 - val_loss: 0.4199\n",
      "Epoch 23/40\n",
      "4/4 [==============================] - 0s 41ms/step - loss: 0.1404 - val_loss: 0.4089\n",
      "Epoch 24/40\n",
      "4/4 [==============================] - 0s 37ms/step - loss: 0.1682 - val_loss: 0.4182\n",
      "Epoch 25/40\n",
      "4/4 [==============================] - 0s 32ms/step - loss: 0.1686 - val_loss: 0.4108\n",
      "Epoch 26/40\n",
      "4/4 [==============================] - 0s 38ms/step - loss: 0.1380 - val_loss: 0.4135\n",
      "Epoch 27/40\n",
      "4/4 [==============================] - 0s 40ms/step - loss: 0.1709 - val_loss: 0.4161\n",
      "Epoch 28/40\n",
      "4/4 [==============================] - 0s 32ms/step - loss: 0.1633 - val_loss: 0.4118\n",
      "Epoch 29/40\n",
      "4/4 [==============================] - 0s 34ms/step - loss: 0.1516 - val_loss: 0.4067\n",
      "Epoch 30/40\n",
      "4/4 [==============================] - 0s 36ms/step - loss: 0.1552 - val_loss: 0.4043\n",
      "Epoch 31/40\n",
      "4/4 [==============================] - 0s 38ms/step - loss: 0.1516 - val_loss: 0.4032\n",
      "Epoch 32/40\n",
      "4/4 [==============================] - 0s 32ms/step - loss: 0.1755 - val_loss: 0.4082\n",
      "Epoch 33/40\n",
      "4/4 [==============================] - 0s 35ms/step - loss: 0.1365 - val_loss: 0.4145\n",
      "Epoch 34/40\n",
      "4/4 [==============================] - 0s 37ms/step - loss: 0.1576 - val_loss: 0.4090\n",
      "Epoch 35/40\n",
      "4/4 [==============================] - 0s 34ms/step - loss: 0.1490 - val_loss: 0.4197\n",
      "Epoch 36/40\n",
      "4/4 [==============================] - 0s 32ms/step - loss: 0.1579 - val_loss: 0.4067\n",
      "Epoch 37/40\n",
      "4/4 [==============================] - 0s 37ms/step - loss: 0.1435 - val_loss: 0.4036\n",
      "Epoch 38/40\n",
      "4/4 [==============================] - 0s 37ms/step - loss: 0.1599 - val_loss: 0.4161\n",
      "Epoch 39/40\n",
      "4/4 [==============================] - 0s 38ms/step - loss: 0.1549 - val_loss: 0.4010\n",
      "Epoch 40/40\n",
      "4/4 [==============================] - 0s 31ms/step - loss: 0.1778 - val_loss: 0.4094\n"
     ]
    }
   ],
   "source": [
    "history = model.fit_generator(train_gen,\n",
    "                              steps_per_epoch=4,\n",
    "                              epochs=40,\n",
    "                              validation_data=val_gen,\n",
    "                              validation_steps=val_steps)"
   ]
  },
  {
   "cell_type": "code",
   "execution_count": 37,
   "metadata": {
    "_cell_guid": "9cfe0dc0-4d1d-435e-822f-7934dcea6303",
    "_uuid": "998905534663e8689b0d5977c052413c8f4b617f"
   },
   "outputs": [
    {
     "data": {
      "text/plain": [
       "<matplotlib.legend.Legend at 0x1345c278f28>"
      ]
     },
     "execution_count": 37,
     "metadata": {},
     "output_type": "execute_result"
    },
    {
     "data": {
      "image/png": "[encoded data removed]",
      "text/plain": [
       "<Figure size 432x288 with 1 Axes>"
      ]
     },
     "metadata": {
      "needs_background": "light"
     },
     "output_type": "display_data"
    }
   ],
   "source": [
    "loss = history.history['loss']\n",
    "val_loss = history.history['val_loss']\n",
    "epochs = range(len(loss))\n",
    "plt.figure()\n",
    "plt.plot(epochs, loss, 'blue', label='train loss')\n",
    "plt.plot(epochs, val_loss, 'orange', label='test loss')\n",
    "plt.title('Training and validation loss')\n",
    "plt.legend()"
   ]
  },
  {
   "cell_type": "code",
   "execution_count": 38,
   "metadata": {
    "_cell_guid": "0e5dcfc9-ec08-4b15-8c28-01c6188b421d",
    "_uuid": "4917c3df6d62625916c141066fdba3f95db821c9",
    "scrolled": true
   },
   "outputs": [],
   "source": [
    "train_re = train_n.reshape(-1,1,1)\n",
    "pred = model.predict(train_re)"
   ]
  },
  {
   "cell_type": "markdown",
   "metadata": {
    "_uuid": "c4a904565e3a96f33a94e7972630d312a57c1380"
   },
   "source": [
    "Since we scaled the data, it is necessary to scale back to data in original units to plot the data"
   ]
  },
  {
   "cell_type": "code",
   "execution_count": 39,
   "metadata": {
    "_uuid": "238a2999d2812b25b82cb15be3f285c351253903"
   },
   "outputs": [],
   "source": [
    "pred = scaler.inverse_transform(pred)"
   ]
  },
  {
   "cell_type": "code",
   "execution_count": 40,
   "metadata": {
    "_cell_guid": "5efd431a-32c8-450b-ace1-0602765c9f37",
    "_uuid": "beb877ae28180579a703ce5f2995588460b225c6",
    "scrolled": true
   },
   "outputs": [
    {
     "data": {
      "text/plain": [
       "Text(0.5, 1.0, 'Prediction on training data')"
      ]
     },
     "execution_count": 40,
     "metadata": {},
     "output_type": "execute_result"
    },
    {
     "data": {
      "image/png": "[encoded data removed]",
      "text/plain": [
       "<Figure size 432x288 with 1 Axes>"
      ]
     },
     "metadata": {
      "needs_background": "light"
     },
     "output_type": "display_data"
    }
   ],
   "source": [
    "plt.plot(range(len(train_re)), train, label='train')\n",
    "plt.plot(range(len(train_re)), pred, label='prediction')\n",
    "plt.legend()\n",
    "plt.title(\"Prediction on training data\")"
   ]
  }
 ],
 "metadata": {
  "kernelspec": {
   "display_name": "Python kerasenv",
   "language": "python",
   "name": "myenv"
  },
  "language_info": {
   "codemirror_mode": {
    "name": "ipython",
    "version": 3
   },
   "file_extension": ".py",
   "mimetype": "text/x-python",
   "name": "python",
   "nbconvert_exporter": "python",
   "pygments_lexer": "ipython3",
   "version": "3.6.6"
  }
 },
 "nbformat": 4,
 "nbformat_minor": 1
}
