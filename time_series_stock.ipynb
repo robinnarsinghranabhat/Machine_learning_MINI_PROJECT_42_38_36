{
  "cells": [
    {
      "metadata": {
        "_uuid": "f37c51e2567d1c03946bf2ebda6c830c8acb9179",
        "_cell_guid": "e5597995-1a23-40d2-85cb-8603fbe5181d",
        "scrolled": true,
        "trusted": true
      },
      "cell_type": "code",
      "source": "import numpy as np\nimport pandas as pd \nimport matplotlib.pyplot as plt\n%matplotlib inline\nimport seaborn as sns; sns.set()",
      "execution_count": null,
      "outputs": []
    },
    {
      "metadata": {
        "_uuid": "5cae6e3c6c4c61461ff331c23904b078e55dd777",
        "_cell_guid": "e92fb697-4dae-443f-bdfc-4040477fa63a",
        "trusted": true
      },
      "cell_type": "code",
      "source": "train = pd.read_csv(\"train.csv\")\ntest = pd.read_csv(\"test.csv\")",
      "execution_count": null,
      "outputs": []
    },
    {
      "metadata": {
        "_uuid": "b21534944986ad5b34316f025a96d537426bd43a",
        "_cell_guid": "dad2513d-ad5c-4682-ba08-033d58a8f364",
        "trusted": true
      },
      "cell_type": "code",
      "source": "train = train[::-1]\ntest = test[::-1]",
      "execution_count": null,
      "outputs": []
    },
    {
      "metadata": {
        "_uuid": "959807425192929fb4ce607880a805666d24f6dd",
        "_cell_guid": "5fb1a71b-1ae2-4c75-be85-a0c9532ce620",
        "trusted": true
      },
      "cell_type": "code",
      "source": "train.head()",
      "execution_count": null,
      "outputs": []
    },
    {
      "metadata": {
        "trusted": true,
        "_uuid": "07aba7ce678b44dd0e702ff24efb154cd8810fb9"
      },
      "cell_type": "code",
      "source": "df = pd.concat((train,test),axis=0)",
      "execution_count": null,
      "outputs": []
    },
    {
      "metadata": {
        "trusted": true,
        "_uuid": "d3055eea56967155f7a7c92d343ea3dc244a922c"
      },
      "cell_type": "code",
      "source": "df.Open.values",
      "execution_count": null,
      "outputs": []
    },
    {
      "metadata": {
        "trusted": true,
        "_uuid": "a5545b6f20e7b7a0ce474f070c53bab0dbcc93b1"
      },
      "cell_type": "code",
      "source": "plt.figure(figsize=(15, 5));\nplt.subplot(1,2,1);\nplt.plot(df.Open.values, color='red', label='open')\nplt.plot(df.Close.values, color='green', label='close')\nplt.plot(df.Low.values, color='blue', label='low')\nplt.plot(df.High.values, color='black', label='high')\nplt.title('stock price')\nplt.xlabel('time [days]')\nplt.ylabel('price')\nplt.legend(loc='best')\n#plt.show()",
      "execution_count": null,
      "outputs": []
    },
    {
      "metadata": {
        "_uuid": "64df3017961c79a1cb2bc425e2ce3b710d988af9",
        "_cell_guid": "a9f4e4ae-b765-420e-a1dc-71d077a874fe",
        "trusted": true
      },
      "cell_type": "code",
      "source": "train = train['Close'].values.astype('float32')\ntest = test['Close'].values.astype('float32')",
      "execution_count": null,
      "outputs": []
    },
    {
      "metadata": {
        "_uuid": "760da4555737afb907c29bcf6dd5990551c123bb",
        "_cell_guid": "fc56d316-c7b0-431a-87a5-4a5c0c5322db"
      },
      "cell_type": "markdown",
      "source": "# Make sure to standardize the data before feeding it to neural nets"
    },
    {
      "metadata": {
        "_uuid": "5ef412246e480c3b15f5122d649a611477c8a543",
        "_cell_guid": "3c75f077-5d36-46c8-b2b9-3040a810b3f7",
        "trusted": true
      },
      "cell_type": "code",
      "source": "from sklearn.preprocessing import StandardScaler",
      "execution_count": null,
      "outputs": []
    },
    {
      "metadata": {
        "_uuid": "eba78ef02a5e8a8ead44abd732f7932304e17a23",
        "_cell_guid": "140aa0d1-877a-4590-8b2c-c0f819aefa58",
        "trusted": true
      },
      "cell_type": "code",
      "source": "# reshape data to scale the point\ntrain = train.reshape(-1, 1)\ntest = test.reshape(-1, 1)\n\nscaler = StandardScaler()\ntrain_n = scaler.fit_transform(train)\ntest_n = scaler.transform(test)",
      "execution_count": null,
      "outputs": []
    },
    {
      "metadata": {
        "_uuid": "467b816d42a90320331752e49f289752af9001d6",
        "_cell_guid": "a15bb097-88c2-44e6-bcd4-0aad75476b78",
        "trusted": true
      },
      "cell_type": "code",
      "source": "print(train_n.shape)\nprint(test_n.shape)",
      "execution_count": null,
      "outputs": []
    },
    {
      "metadata": {
        "_uuid": "45b57895f96bbe049d0534504bf98bfe9e47dfac",
        "_cell_guid": "968e401b-6d40-4690-aacc-25b624cdb5da",
        "trusted": true
      },
      "cell_type": "code",
      "source": "def generator(data, lookback, delay, min_index, max_index, \n              shuffle=False, batch_size=128, step=1):\n    if max_index is None:\n        max_index = len(data) - delay - 1\n    i = min_index + lookback\n    while 1:\n        if shuffle:\n            rows = np.random.randint(min_index + lookback, max_index, size=batch_size)\n        else:\n            if i + batch_size >= max_index:\n                i = min_index + lookback\n                \n            rows = np.arange(i, min(i + batch_size, max_index))\n            i += len(rows)\n        samples = np.zeros((len(rows), lookback // step, data.shape[-1]))\n        targets = np.zeros((len(rows),))\n        for j, row in enumerate(rows):\n            indices = range(rows[j] - lookback, rows[j], step)\n            samples[j] = data[indices]\n            targets[j] = data[rows[j] + delay]\n        yield samples, targets",
      "execution_count": null,
      "outputs": []
    },
    {
      "metadata": {
        "_uuid": "6501bb6e1934b943896a40c8e3c910e4d59bde6a",
        "_cell_guid": "2362868a-a703-4ba8-a312-9571e171ba7d",
        "trusted": true
      },
      "cell_type": "code",
      "source": "# we look back 24 days and predict for future 7 days.\nlookback = 24\nstep = 1\ndelay = 7\nbatch_size = 128\ntrain_gen = generator(train_n, lookback=lookback, delay=delay,\n    min_index=0, max_index=1000, shuffle=True, step=step,\nbatch_size=batch_size)\nval_gen = generator(train_n, lookback=lookback, delay=delay,\n    min_index=1001, max_index=None, step=step, batch_size=batch_size)\ntest_gen = generator(test_n, lookback=lookback, delay=delay,\n    min_index=0, max_index=None, step=step, batch_size=batch_size)\n# This is how many steps to draw from `val_gen` in order to see the whole validation set:\nval_steps = (len(train_n) - 1001 - lookback) // batch_size\n# This is how many steps to draw from `test_gen` in order to see the whole test set:\ntest_steps = (len(test_n) - lookback) // batch_size",
      "execution_count": null,
      "outputs": []
    },
    {
      "metadata": {
        "_uuid": "5660be75fea9fa947c2045b99fe0925dffbbc482",
        "_cell_guid": "ebc3f790-b6cb-46a4-a2ec-2ec069bb9556",
        "trusted": true
      },
      "cell_type": "code",
      "source": "# reproducibility (make sure each time training is occurred, the result will be the same)\nnp.random.seed(7)",
      "execution_count": null,
      "outputs": []
    },
    {
      "metadata": {
        "_uuid": "6fc584cd9cee686a6278fa82145cd339a7cbadaf",
        "_cell_guid": "998f0da7-52be-4247-b4a4-f4d402ace516",
        "trusted": true
      },
      "cell_type": "code",
      "source": "from keras.models import Sequential\nfrom keras import layers\nfrom keras.optimizers import RMSprop",
      "execution_count": null,
      "outputs": []
    },
    {
      "metadata": {
        "_uuid": "ad449498944a2f0b45d35d9b49a8796f3e1bf7f3",
        "_cell_guid": "a1742752-1b4a-4695-b428-eb3e0cb3737d",
        "scrolled": true,
        "trusted": true
      },
      "cell_type": "code",
      "source": "model = Sequential()\nmodel.add(layers.GRU(32,\n                     dropout=0.2,\n                     recurrent_dropout=0.2,\n                     input_shape=(None, train_n.shape[-1])))\nmodel.add(layers.Dense(1))\nmodel.compile(optimizer=RMSprop(), loss='mae')\nmodel.summary()",
      "execution_count": null,
      "outputs": []
    },
    {
      "metadata": {
        "_uuid": "a9d207442accdd96902ef709f42e14dcdaee0fdb",
        "_cell_guid": "9a81c912-551c-4610-a312-f7cc5ac49000",
        "trusted": true
      },
      "cell_type": "code",
      "source": "history = model.fit_generator(train_gen,\n                              steps_per_epoch=500,\n                              epochs=40,\n                              validation_data=val_gen,\n                              validation_steps=val_steps)",
      "execution_count": null,
      "outputs": []
    },
    {
      "metadata": {
        "_uuid": "998905534663e8689b0d5977c052413c8f4b617f",
        "_cell_guid": "9cfe0dc0-4d1d-435e-822f-7934dcea6303",
        "trusted": true
      },
      "cell_type": "code",
      "source": "loss = history.history['loss']\nval_loss = history.history['val_loss']\nepochs = range(len(loss))\nplt.figure()\nplt.plot(epochs, loss, 'blue', label='train loss')\nplt.plot(epochs, val_loss, 'orange', label='test loss')\nplt.title('Training and validation loss')\nplt.legend()",
      "execution_count": null,
      "outputs": []
    },
    {
      "metadata": {
        "_uuid": "1de16512097c98850c8c2ff7ca1de71c7b0f67c0",
        "_cell_guid": "8969cb74-7b16-47db-b402-09fdba571980"
      },
      "cell_type": "markdown",
      "source": "Important to note: Overfitting. Further hyperparamter tuing is necessary (strong drop-out, regularization)"
    },
    {
      "metadata": {
        "scrolled": true,
        "_uuid": "4917c3df6d62625916c141066fdba3f95db821c9",
        "_cell_guid": "0e5dcfc9-ec08-4b15-8c28-01c6188b421d",
        "trusted": true
      },
      "cell_type": "code",
      "source": "train_re = train_n.reshape(-1,1,1)\npred = model.predict(train_re)",
      "execution_count": null,
      "outputs": []
    },
    {
      "metadata": {
        "_uuid": "c4a904565e3a96f33a94e7972630d312a57c1380"
      },
      "cell_type": "markdown",
      "source": "Since we scaled the data, it is necessary to scale back to data in original units to plot the data"
    },
    {
      "metadata": {
        "_uuid": "238a2999d2812b25b82cb15be3f285c351253903",
        "trusted": true
      },
      "cell_type": "code",
      "source": "pred = scaler.inverse_transform(pred)",
      "execution_count": null,
      "outputs": []
    },
    {
      "metadata": {
        "_uuid": "beb877ae28180579a703ce5f2995588460b225c6",
        "_cell_guid": "5efd431a-32c8-450b-ace1-0602765c9f37",
        "scrolled": true,
        "trusted": true
      },
      "cell_type": "code",
      "source": "plt.plot(range(len(train_re)), train, label='train')\nplt.plot(range(len(train_re)), pred, label='prediction')\nplt.legend()\nplt.title(\"Prediction on training data\")",
      "execution_count": null,
      "outputs": []
    }
  ],
  "metadata": {
    "kernelspec": {
      "display_name": "Python 3",
      "language": "python",
      "name": "python3"
    },
    "language_info": {
      "name": "python",
      "version": "3.6.6",
      "mimetype": "text/x-python",
      "codemirror_mode": {
        "name": "ipython",
        "version": 3
      },
      "pygments_lexer": "ipython3",
      "nbconvert_exporter": "python",
      "file_extension": ".py"
    }
  },
  "nbformat": 4,
  "nbformat_minor": 1
}